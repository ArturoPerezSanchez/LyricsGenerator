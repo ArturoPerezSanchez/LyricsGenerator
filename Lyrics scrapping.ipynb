{
 "cells": [
  {
   "cell_type": "markdown",
   "metadata": {},
   "source": [
    "## Máster en Ingeniería informática: Datos, Cloud y Gestión TI\n",
    "\n",
    "# Análisis de información no estructurada\n",
    "\n",
    "## Generador de letras de canciones\n",
    "\n",
    "#### Realizado por: Arturo Pérez Sánchez y Jacinto Ruiz Díaz"
   ]
  },
  {
   "cell_type": "markdown",
   "metadata": {},
   "source": [
    "El objetivo de este proyecto es el de implementar un sistema que permita generar de manera automática letras de canciones imitando el estilo de un artista en particular, realizando previamente una lectura de la letra de sus canciones.\n",
    "\n",
    "El primer paso a realizar es la extracción de las letras de canciones para su posterior análisis. En nuestro caso, para obtener las letras de las canciones hemos optado por realizar <a href=\"https://es.wikipedia.org/wiki/Web_scraping\">web scrapping</a> de la página <a href=\"https://www.azlyrics.com/\">azlyrics</a>, la cual almacena letras de una amplia variedad de autores.\n",
    "\n",
    "Para realizar la extracción de las letras utilizaremos la libreria <a href=\"https://www.crummy.com/software/BeautifulSoup/bs4/doc/\">BeautifulSoup</a>, al ser una de las librerías de Python más completas e intuitivas para realizar este tipo de tareas.\n",
    "\n",
    "Comenzaremos importándola:"
   ]
  },
  {
   "cell_type": "code",
   "execution_count": 1,
   "metadata": {},
   "outputs": [],
   "source": [
    "import requests\n",
    "from bs4 import BeautifulSoup"
   ]
  },
  {
   "cell_type": "markdown",
   "metadata": {},
   "source": [
    "Una vez importada la librería definiremos algunos Hiperparámetros:\n",
    "<ul>\n",
    "    <li><strong>group:</strong> Nombre del grupo musical cuyo estilo deseamos imitar.</li>\n",
    "    <li><strong>albums:</strong> Lista de álbumes del grupo que vamos a analizar (si se deja vacío se leerán todos).</li>\n",
    "    <li><strong>wait_time:</strong> Tiempo en segundos que transcurrirá entre una petición y otra.</li>\n",
    "</ul>"
   ]
  },
  {
   "cell_type": "code",
   "execution_count": 2,
   "metadata": {},
   "outputs": [],
   "source": [
    "group = 'Lady Gaga'\n",
    "albums = ['Red And Blue', 'The Fame', 'The Fame Monster', 'Born This Way', 'A Very Gaga Holiday', 'Artpop', 'Joanne', 'Chromatica']\n",
    "wait_time = 5"
   ]
  },
  {
   "cell_type": "markdown",
   "metadata": {},
   "source": [
    "Lo primero que tenemos que realizar es una conversión del nombre del grupo al nombre utilizado en la página (todo en minúsculas y sin espacios):"
   ]
  },
  {
   "cell_type": "code",
   "execution_count": 3,
   "metadata": {},
   "outputs": [],
   "source": [
    "group = group.lower().replace(\" \", \"\")"
   ]
  },
  {
   "cell_type": "markdown",
   "metadata": {},
   "source": [
    "Ahora procedemos a estudiar cómo se estructuran las URLs del sitio web al que vamos a hacer scrapping.\n",
    "\n",
    "Concretamente, estamos interesados en __dos__ vistas del sitio:\n",
    "\n",
    "## Lista de canciones separadas por álbumes\n",
    "La URL de esta página se estructura de la forma:\n",
    "<h3><center>https://www.azlyrics.com/<font color=\"red\">[initial]</font>/<font color=\"red\">[group]</font>.html </center></h3>\n",
    "Donde <i>[initial]</i> corresponde a la primera letra del grupo* y <i>[group]</i> corresponde al nombre del grupo. En el ejemplo del grupo Lady Gaga, se vería de la siguiente forma:\n",
    "\n",
    "<img src=\"images/gaga_album_example.png\" width=600>\n",
    "<br>\n",
    "\n",
    "*_Si el nombre del grupo comienza por un carácter especial la variable [initial] tomará el valor '19'_\n",
    "\n",
    "## Letra de cada canción\n",
    "En este caso, notaremos que la ruta es la misma pero cambiando [initial] por 'lyrics' y añadiendo el nombre de la canción justo después del nombre del grupo:\n",
    "\n",
    "<h3><center> https://www.azlyrics.com/lyrics/<font color=\"red\">[group]</font>/<font color=\"red\">[song]</font>.html </center></h3>\n",
    "\n",
    "El resultado para el ejemplo de la canción \"Poker Face\" de Lady Gaga es el siguiente:\n",
    "\n",
    "<img src=\"images/gaga_lyrics2.png\" width=600>"
   ]
  },
  {
   "cell_type": "markdown",
   "metadata": {},
   "source": [
    "Con esto, ya podemos estructurar la ruta de álbumes a partir de los hiperparámetros que habíamos establecido:"
   ]
  },
  {
   "cell_type": "code",
   "execution_count": 4,
   "metadata": {},
   "outputs": [],
   "source": [
    "#Inicializamos la variable initial como el primer caracter del grupo o 19 si no es una letra\n",
    "initial = group[0] if group[0].isalpha() else '19'\n",
    "\n",
    "#Prefijo del sitio web\n",
    "prefix = 'https://www.azlyrics.com'\n",
    "sufix = '.html'\n",
    "\n",
    "#Concatenamos las variables para formar la URL completa\n",
    "albumsUrl = prefix + '/' + initial + '/' + group"
   ]
  },
  {
   "cell_type": "markdown",
   "metadata": {},
   "source": [
    "Con la URL de los álbumes ya creados, podemos utilizar las librerías anteriormente mencionadas para hacer la llamada a la página y obtener la lista de álbumes y los títulos de las canciones que lo componen:"
   ]
  },
  {
   "cell_type": "code",
   "execution_count": 5,
   "metadata": {},
   "outputs": [],
   "source": [
    "# Las claves serán los álbumes y los valores un array con las canciones. Las canciones a su vez serán un array de tamaño 3:\n",
    "# El primer valor es el titulo, el segundo el enlace y el tercero la letra de la canción\n",
    "albumsDict = {}\n",
    "\n",
    "# Hacemos la llamada para obtener la lista de álbumes\n",
    "r = requests.get(albumsUrl + sufix)\n",
    "soup = BeautifulSoup(r.text, 'lxml')\n",
    "\n",
    "res = soup.findAll('div', class_=['album', 'listalbum-item'])\n",
    "\n",
    "# Recorremos la lista de álbumes y para cada uno de ellos guardamos en el diccionario\n",
    "# el título de cada canción y la ruta a la letra de dicha canción\n",
    "currentAlbum = ''\n",
    "for div in res:\n",
    "    if(div.get('class')[0] == 'album'):\n",
    "        # Este div corresponde a un álbum, por lo que añadimos una nueva entrada al diccionario\n",
    "        currentAlbum = div.find('b').contents[0].replace('\"', '')\n",
    "        albumsDict[currentAlbum] = []\n",
    "    else:\n",
    "        # Este div corresponde a una canción por lo que la añadimos a los valores del álbum\n",
    "        albumsDict[currentAlbum].append([div.contents[0].contents[0], 'https://www.azlyrics.com' + div.contents[0]['href'][2:]])"
   ]
  },
  {
   "cell_type": "markdown",
   "metadata": {},
   "source": [
    "Ahora tenemos un diccionario con todos los álbumes, y para cada álbum tenemos todas las canciones que lo componen con sus respectivos enlaces a la letra. Por tanto, solo nos faltaría llamar a cada uno de estos enlaces para obtener la letra de cada canción; sin embargo, para reducir el número de llamadas al sitio web, primero realizaremos una limpieza de los álbumes para quedarnos solo con aquellos que habíamos indicado que nos interesaban:"
   ]
  },
  {
   "cell_type": "code",
   "execution_count": 6,
   "metadata": {},
   "outputs": [],
   "source": [
    "# Limpieza de álbumes\n",
    "# Del diccionario que hemos creado nos quedamos solo con los álbumes \n",
    "# que aparezcan en el array de álbumes que habíamos especificado inicialmente o con todos si no se ha especificado\n",
    "if(albums):\n",
    "    albumsDict = {a: albumsDict[a] for a in albums if a in albumsDict}"
   ]
  },
  {
   "cell_type": "markdown",
   "metadata": {},
   "source": [
    "Ahora sí que tenemos todo listo para realizar la lectura de las canciones. Cabe destacar que entre cada llamada dejaremos un espacio de tiempo (indicado en la variable '_wait_time_') para evitar que el sitio web nos bloquee la dirección IP. Para conseguirlo haremos uso de la librería **time**."
   ]
  },
  {
   "cell_type": "code",
   "execution_count": 7,
   "metadata": {},
   "outputs": [
    {
     "name": "stdout",
     "output_type": "stream",
     "text": [
      "Leyendo 8 álbum(es)\n",
      "Reading album:  Red And Blue\n",
      "    Reading song:  Something Crazy\n",
      "    Reading song:  Wish You Were Here\n",
      "    Reading song:  No Floods\n",
      "    Reading song:  Red And Blue\n",
      "    Reading song:  Words\n",
      "Reading album:  The Fame\n",
      "    Reading song:  Just Dance\n",
      "    Reading song:  LoveGame\n",
      "    Reading song:  Paparazzi\n",
      "    Reading song:  Beautiful, Dirty, Rich\n",
      "    Reading song:  Eh, Eh (Nothing Else I Can Say)\n",
      "    Reading song:  Poker Face\n",
      "    Reading song:  The Fame\n",
      "    Reading song:  Money Honey\n",
      "    Reading song:  Again Again\n",
      "    Reading song:  Boys Boys Boys\n",
      "    Reading song:  Brown Eyes\n",
      "    Reading song:  Summerboy\n",
      "    Reading song:  I Like It Rough\n",
      "    Reading song:  Retro Dance Freak\n",
      "Reading album:  The Fame Monster\n",
      "    Reading song:  Bad Romance\n",
      "    Reading song:  Alejandro\n",
      "    Reading song:  Monster\n",
      "    Reading song:  Speechless\n",
      "    Reading song:  Dance In The Dark\n",
      "    Reading song:  Telephone\n",
      "    Reading song:  So Happy I Could Die\n",
      "    Reading song:  Teeth\n",
      "Reading album:  Born This Way\n",
      "    Reading song:  Marry The Night\n",
      "    Reading song:  Born This Way\n",
      "    Reading song:  Government Hooker\n",
      "    Reading song:  Judas\n",
      "    Reading song:  Americano\n",
      "    Reading song:  Hair\n",
      "    Reading song:  ScheiÃe\n",
      "    Reading song:  Bloody Mary\n",
      "    Reading song:  Bad Kids\n",
      "    Reading song:  Highway Unicorn (Road To Love)\n",
      "    Reading song:  Heavy Metal Lover\n",
      "    Reading song:  Electric Chapel\n",
      "    Reading song:  You And I\n",
      "    Reading song:  The Edge Of Glory\n",
      "    Reading song:  Born This Way (Jost & Naaf Remix)\n",
      "    Reading song:  Black Jesus + Amen Fashion\n",
      "    Reading song:  Fashion Of His Love\n",
      "    Reading song:  The Queen\n",
      "Reading album:  A Very Gaga Holiday\n",
      "    Reading song:  White Christmas\n",
      "    Reading song:  Orange Colored Sky\n",
      "    Reading song:  You And I\n",
      "    Reading song:  The Edge Of Glory\n",
      "Reading album:  Artpop\n",
      "    Reading song:  Aura\n",
      "    Reading song:  Venus\n",
      "    Reading song:  G.U.Y.\n",
      "    Reading song:  Sexxx Dreams\n",
      "    Reading song:  Jewels N' Drugs\n",
      "    Reading song:  Manicure\n",
      "    Reading song:  Do What U Want\n",
      "    Reading song:  Artpop\n",
      "    Reading song:  Swine\n",
      "    Reading song:  Donatella\n",
      "    Reading song:  Fashion!\n",
      "    Reading song:  Mary Jane Holland\n",
      "    Reading song:  Dope\n",
      "    Reading song:  Gypsy\n",
      "    Reading song:  Applause\n",
      "Reading album:  Joanne\n",
      "    Reading song:  Diamond Heart\n",
      "    Reading song:  A-Yo\n",
      "    Reading song:  Joanne\n",
      "    Reading song:  John Wayne\n",
      "    Reading song:  Dancin' In Circles\n",
      "    Reading song:  Perfect Illusion\n",
      "    Reading song:  Million Reasons\n",
      "    Reading song:  Sinner's Prayer\n",
      "    Reading song:  Come To Mama\n",
      "    Reading song:  Hey Girl\n",
      "    Reading song:  Angel Down\n",
      "    Reading song:  Grigio Girls\n",
      "    Reading song:  Just Another Day\n",
      "    Reading song:  Angel Down (Work Tape)\n",
      "    Reading song:  Million Reasons (Work Tape)\n",
      "Reading album:  Chromatica\n",
      "    Reading song:  Alice\n",
      "    Reading song:  Stupid Love\n",
      "    Reading song:  Rain On Me\n",
      "    Reading song:  Free Woman\n",
      "    Reading song:  Fun Tonight\n",
      "    Reading song:  911\n",
      "    Reading song:  Plastic Doll\n",
      "    Reading song:  Sour Candy\n",
      "    Reading song:  Enigma\n",
      "    Reading song:  Replay\n",
      "    Reading song:  Sine From Above\n",
      "    Reading song:  1000 Doves\n",
      "    Reading song:  Babylon\n",
      "    Reading song:  Love Me Right\n",
      "    Reading song:  1000 Doves (Piano Demo)\n"
     ]
    }
   ],
   "source": [
    "import time\n",
    "\n",
    "#Creamos un diccionario donde las claves serán las canciones y el valor la letra de dicha canción\n",
    "lyricsDict = {}\n",
    "\n",
    "print('Leyendo ' + str(len(albumsDict)) + ' álbum(es)')\n",
    "\n",
    "#Recorremos la lista de álbumes y para cada álbum recorremos la lista de canciones\n",
    "for album in albumsDict:\n",
    "    print ('Reading album: ', album)\n",
    "    for song in albumsDict[album]:\n",
    "        print ('    Reading song: ', song[0])\n",
    "        \n",
    "        # Esperamos unos segundos antes de realizar la llamada\n",
    "        time.sleep(wait_time)\n",
    "        r = requests.get(song[1])\n",
    "        soup = BeautifulSoup(r.text, 'lxml')\n",
    "        \n",
    "        # Como el div que contiene la letra no tiene ninguna clase ni identificador lo obtendremos a partir del div padre\n",
    "        column = soup.find('div', class_=['col-xs-12 col-lg-8 text-center'])\n",
    "        \n",
    "        #El div con la letra de la canción siempre estará en 5º lugar, después de los divs del título y de las redes sociales\n",
    "        raw_lyrics = column.findAll('div')[5].text\n",
    "        lyricsDict[song[0]] = raw_lyrics"
   ]
  },
  {
   "cell_type": "markdown",
   "metadata": {},
   "source": [
    "Por último, tenemos que fusionar los arrays albumsDict y lyricsDict:"
   ]
  },
  {
   "cell_type": "code",
   "execution_count": 8,
   "metadata": {},
   "outputs": [],
   "source": [
    "# Recorremos los álbumes\n",
    "for album in albumsDict:\n",
    "    # Recorremos las canciones de cada álbum\n",
    "    for song in albumsDict[album]:\n",
    "        #A cada canción le añadimos la letra correspondiente\n",
    "        song.append(lyricsDict[song[0]])"
   ]
  },
  {
   "cell_type": "markdown",
   "metadata": {},
   "source": [
    "Ahora ya tenemos todas las canciones tal y como queríamos, por lo que podemos guardarlas en un json para su posterior análisis:"
   ]
  },
  {
   "cell_type": "code",
   "execution_count": 9,
   "metadata": {},
   "outputs": [],
   "source": [
    "import json \n",
    "\n",
    "# El json se guardará en la carpeta data\n",
    "with open('data/' + group + \"-lyrics.json\", \"w\") as outfile: \n",
    "    json.dump(albumsDict, outfile)"
   ]
  },
  {
   "cell_type": "code",
   "execution_count": null,
   "metadata": {},
   "outputs": [],
   "source": []
  }
 ],
 "metadata": {
  "kernelspec": {
   "display_name": "Python 3",
   "language": "python",
   "name": "python3"
  },
  "language_info": {
   "codemirror_mode": {
    "name": "ipython",
    "version": 3
   },
   "file_extension": ".py",
   "mimetype": "text/x-python",
   "name": "python",
   "nbconvert_exporter": "python",
   "pygments_lexer": "ipython3",
   "version": "3.8.5"
  }
 },
 "nbformat": 4,
 "nbformat_minor": 4
}
