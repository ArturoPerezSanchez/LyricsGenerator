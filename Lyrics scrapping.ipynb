{
 "cells": [
  {
   "cell_type": "markdown",
   "metadata": {},
   "source": [
    "## Master en ingeniería informática: Datos, Cloud y Gestión TI\n",
    "\n",
    "# Análisis de información no estructurada\n",
    "\n",
    "## Generador de letras de canciones\n",
    "\n",
    "#### Realizado por: Arturo Pérez Sánchez y Jacinto Ruiz Díaz"
   ]
  },
  {
   "cell_type": "markdown",
   "metadata": {},
   "source": [
    "El objetivo de este proyecto es el de implementar un sistema que permita generar de manera automática letras de canciones imitando el estilo de un artista en particular, realizando previamente una lectura de la letra de sus canciones.\n",
    "\n",
    "El primer paso a realizar es la extracción de las letras de canciones para su posterior análisis. En nuestro caso, para obtener las letras de las canciones hemos optado por realizar <a href=\"https://es.wikipedia.org/wiki/Web_scraping\"> web scrapping </a> de la página <a href=\"https://www.azlyrics.com/\">azlyrics</a> la cual contiene letras de canciones de una amplia variedad de autores.\n",
    "\n",
    "Para realizar la extracción de las letras utilizaremos la libreria <a href=\"https://www.crummy.com/software/BeautifulSoup/bs4/doc/\">BeautifulSoup</a> Porque es una de las librerías de python más completas e intuitivas para realizar esta tarea.\n",
    "\n",
    "Comenzaremos importandola:"
   ]
  },
  {
   "cell_type": "code",
   "execution_count": 2,
   "metadata": {},
   "outputs": [],
   "source": [
    "import requests\n",
    "from bs4 import BeautifulSoup"
   ]
  },
  {
   "cell_type": "markdown",
   "metadata": {},
   "source": [
    "Una vez importada la librería definiremos algunos Hiperparámetros:\n",
    "<ul>\n",
    "    <li><strong>group:</strong> Nombre del grupo musical cuyo estilo deseamos imitar.</li>\n",
    "    <li><strong>albums:</strong> Lista de albumes del grupo que vamos a analizar (Si se deja vacío se leeran todas).</li>\n",
    "    <li><strong>wait_time:</strong> Tiempo en segundos que transcurrirá entre una petición y otra.</li>\n",
    "</ul>"
   ]
  },
  {
   "cell_type": "code",
   "execution_count": 3,
   "metadata": {},
   "outputs": [],
   "source": [
    "group = 'Lady Gaga'\n",
    "albums = ['Red And Blue', 'The Fame', 'The Fame Monster', 'Born This Way', 'A Very Gaga Holiday', 'Artpop', 'Joanne', 'Chromatica']\n",
    "wait_time = 5"
   ]
  },
  {
   "cell_type": "markdown",
   "metadata": {},
   "source": [
    "Lo primero que tenemos que realizar es una conversión del nombre del grupo al nombre utilizado en la página (todo minúsculas y sin espacios)"
   ]
  },
  {
   "cell_type": "code",
   "execution_count": 4,
   "metadata": {},
   "outputs": [],
   "source": [
    "group = group.lower().replace(\" \", \"\")"
   ]
  },
  {
   "cell_type": "markdown",
   "metadata": {},
   "source": [
    "Ahora procedemos a estudiar como se estructuran las URLs del sitio web al que vamos a hacer scrapping:\n",
    "\n",
    "Concretamente, estamos interesados en __dos__ vistas del sitio:\n",
    "\n",
    "## La lista de canciones separadas por albumes:\n",
    "URL de esta página se estructura de la forma \n",
    "<h2><center>https://www.azlyrics.com/[initial]/[group].html </center></h2>\n",
    "Donde __[initial]__ corresponde a la primera letra del grupo* y __[group]__ corresponde al nombre del grupo. Se vería de la siguiente forma:\n",
    "\n",
    "<img src=\"images/gaga_albums.PNG\" width=600>\n",
    "<br>\n",
    "\n",
    "## Letra de cada canción:\n",
    "En este caso, notaremos que la ruta es la misma pero cambiando [initial] por 'lyrics' y añadiendo el nombre de la canción justo después del nombre del grupo. Con el siguiente resultado:\n",
    "\n",
    "<h2><center>https://www.azlyrics.com/lyrics/[group]/[song].html </center></h2>\n",
    "<img src=\"images/gaga_song.PNG\" width=600>\n",
    "\n",
    "\n",
    "*_Si el nombre del grupo comienza por un carácter especial la variable [initial] tomará el valor '19'_"
   ]
  },
  {
   "cell_type": "markdown",
   "metadata": {},
   "source": [
    "Con esto, ya podemos estrucuturar la ruta de albumes a partir de los hiperparámetros que habiamos establecido"
   ]
  },
  {
   "cell_type": "code",
   "execution_count": 5,
   "metadata": {},
   "outputs": [],
   "source": [
    "#Inicializamos la variable initial como el primer caracter del grupo o 19 si no es una letra\n",
    "initial = group[0] if group[0].isalpha() else '19'\n",
    "\n",
    "#Prefijo del sitio web\n",
    "prefix = 'https://www.azlyrics.com'\n",
    "sufix = '.html'\n",
    "\n",
    "#Concatenamos las variables para formar la URL completa\n",
    "albumsUrl = prefix + '/' + initial + '/' + group"
   ]
  },
  {
   "cell_type": "markdown",
   "metadata": {},
   "source": [
    "Con la url de los albumes ya creados, ya podemos utilizar las librerias anteriormente mencionadas para hacer la llamada a la página y obtener la lista de albumes y los titulos de las canciones que lo componen"
   ]
  },
  {
   "cell_type": "code",
   "execution_count": 6,
   "metadata": {},
   "outputs": [],
   "source": [
    "# Las claves serán los albumes y los valores un array con las canciones. Las canciones a su vez serán un array de tamaño 3\n",
    "# El primer valor es el titulo, el segundo el enlace y el tercero la letra de la canción\n",
    "albumsDict = {}\n",
    "\n",
    "# Hacemos la llamada para obtener la lista de albumes\n",
    "r = requests.get(albumsUrl + sufix)\n",
    "soup = BeautifulSoup(r.text, 'lxml')\n",
    "\n",
    "res = soup.findAll('div', class_=['album', 'listalbum-item'])\n",
    "\n",
    "# Recorremos la lista de albumes y para cada uno de ellos guardamos en el diccionario\n",
    "# el titulo de cada canción y la ruta a la letra de dicha canción\n",
    "currentAlbum = ''\n",
    "for div in res:\n",
    "    if(div.get('class')[0] == 'album'):\n",
    "        # Este div corresponde a un album, por lo que añadimos una nueva entrada al diccionario\n",
    "        currentAlbum = div.find('b').contents[0].replace('\"', '')\n",
    "        albumsDict[currentAlbum] = []\n",
    "    else:\n",
    "        # Este div corresponde a una canción por lo que la añadimos a los valores del album\n",
    "        albumsDict[currentAlbum].append([div.contents[0].contents[0], 'https://www.azlyrics.com' + div.contents[0]['href'][2:]])"
   ]
  },
  {
   "cell_type": "markdown",
   "metadata": {},
   "source": [
    "Ahora tenemos un un diccionario con todos los albumes, y para cada album tenemos todas las canciones que lo componen con sus respectivos enlaces a la letra. Por lo que solo nos faltaría llamar a cada uno de estos enlaces para obtener la letra de cada canción, sin embargo, para reducir el número de llamadas al sitio web primero realizaremos una limpieza de los albumes para quedarnos sólo con los albumes que habíamos indicado que nos interesaban"
   ]
  },
  {
   "cell_type": "code",
   "execution_count": 8,
   "metadata": {},
   "outputs": [],
   "source": [
    "# Limpieza de albumes\n",
    "# Del diccionario que hemos creado nos quedamos solo con los albumes \n",
    "# que aparezcan en el array de albumes que hemos especificado inicialmente o con todos si no se ha especificado\n",
    "if(albums):\n",
    "    albumsDict = {a: albumsDict[a] for a in albums if a in albumsDict}"
   ]
  },
  {
   "cell_type": "markdown",
   "metadata": {},
   "source": [
    "Ahora si que tenemos todo listo para realizar la lectura de las canciones. Cabe destacar que entre cada llamada dejaremos un espacio de tiempo (indicado en la variable 'wait_time') para evitar que el sitio web nos bloquee la dirección IP, para ello haremos uso de la libreria time."
   ]
  },
  {
   "cell_type": "code",
   "execution_count": 9,
   "metadata": {},
   "outputs": [
    {
     "name": "stdout",
     "output_type": "stream",
     "text": [
      "reading album:  Red And Blue\n",
      "    reading song:  Something Crazy\n",
      "    reading song:  Wish You Were Here\n",
      "    reading song:  No Floods\n",
      "    reading song:  Red And Blue\n",
      "    reading song:  Words\n",
      "reading album:  The Fame\n",
      "    reading song:  Just Dance\n",
      "    reading song:  LoveGame\n",
      "    reading song:  Paparazzi\n",
      "    reading song:  Beautiful, Dirty, Rich\n",
      "    reading song:  Eh, Eh (Nothing Else I Can Say)\n",
      "    reading song:  Poker Face\n",
      "    reading song:  The Fame\n",
      "    reading song:  Money Honey\n",
      "    reading song:  Again Again\n",
      "    reading song:  Boys Boys Boys\n",
      "    reading song:  Brown Eyes\n",
      "    reading song:  Summerboy\n",
      "    reading song:  I Like It Rough\n",
      "    reading song:  Retro Dance Freak\n",
      "reading album:  The Fame Monster\n",
      "    reading song:  Bad Romance\n",
      "    reading song:  Alejandro\n",
      "    reading song:  Monster\n",
      "    reading song:  Speechless\n",
      "    reading song:  Dance In The Dark\n",
      "    reading song:  Telephone\n",
      "    reading song:  So Happy I Could Die\n",
      "    reading song:  Teeth\n",
      "reading album:  Born This Way\n",
      "    reading song:  Marry The Night\n",
      "    reading song:  Born This Way\n",
      "    reading song:  Government Hooker\n",
      "    reading song:  Judas\n",
      "    reading song:  Americano\n",
      "    reading song:  Hair\n",
      "    reading song:  ScheiÃe\n",
      "    reading song:  Bloody Mary\n",
      "    reading song:  Bad Kids\n",
      "    reading song:  Highway Unicorn (Road To Love)\n",
      "    reading song:  Heavy Metal Lover\n",
      "    reading song:  Electric Chapel\n",
      "    reading song:  You And I\n",
      "    reading song:  The Edge Of Glory\n",
      "    reading song:  Born This Way (Jost & Naaf Remix)\n",
      "    reading song:  Black Jesus + Amen Fashion\n",
      "    reading song:  Fashion Of His Love\n",
      "    reading song:  The Queen\n",
      "reading album:  A Very Gaga Holiday\n",
      "    reading song:  White Christmas\n",
      "    reading song:  Orange Colored Sky\n",
      "    reading song:  You And I\n",
      "    reading song:  The Edge Of Glory\n",
      "reading album:  Artpop\n",
      "    reading song:  Aura\n",
      "    reading song:  Venus\n",
      "    reading song:  G.U.Y.\n",
      "    reading song:  Sexxx Dreams\n",
      "    reading song:  Jewels N' Drugs\n",
      "    reading song:  Manicure\n",
      "    reading song:  Do What U Want\n",
      "    reading song:  Artpop\n",
      "    reading song:  Swine\n",
      "    reading song:  Donatella\n",
      "    reading song:  Fashion!\n",
      "    reading song:  Mary Jane Holland\n",
      "    reading song:  Dope\n",
      "    reading song:  Gypsy\n",
      "    reading song:  Applause\n",
      "reading album:  Joanne\n",
      "    reading song:  Diamond Heart\n",
      "    reading song:  A-Yo\n",
      "    reading song:  Joanne\n",
      "    reading song:  John Wayne\n",
      "    reading song:  Dancin' In Circles\n",
      "    reading song:  Perfect Illusion\n",
      "    reading song:  Million Reasons\n",
      "    reading song:  Sinner's Prayer\n",
      "    reading song:  Come To Mama\n",
      "    reading song:  Hey Girl\n",
      "    reading song:  Angel Down\n",
      "    reading song:  Grigio Girls\n",
      "    reading song:  Just Another Day\n",
      "    reading song:  Angel Down (Work Tape)\n",
      "    reading song:  Million Reasons (Work Tape)\n",
      "reading album:  Chromatica\n",
      "    reading song:  Alice\n",
      "    reading song:  Stupid Love\n",
      "    reading song:  Rain On Me\n",
      "    reading song:  Free Woman\n",
      "    reading song:  Fun Tonight\n",
      "    reading song:  911\n",
      "    reading song:  Plastic Doll\n",
      "    reading song:  Sour Candy\n",
      "    reading song:  Enigma\n",
      "    reading song:  Replay\n",
      "    reading song:  Sine From Above\n",
      "    reading song:  1000 Doves\n",
      "    reading song:  Babylon\n",
      "    reading song:  Love Me Right\n",
      "    reading song:  1000 Doves (Piano Demo)\n"
     ]
    }
   ],
   "source": [
    "import time\n",
    "\n",
    "#Creamos un diccionario donde las claves serán las canciones y el valor la letra de dicha canción\n",
    "lyricsDict = {}\n",
    "\n",
    "print('leyendo ' + len(albumsDict) + ' albumes')\n",
    "\n",
    "#Recorremos la lista de albumes y para cada album recorremos la lista de canciones\n",
    "for album in albumsDict:\n",
    "    print ('reading album: ', album)\n",
    "    for song in albumsDict[album]:\n",
    "        print ('    reading song: ', song[0])\n",
    "        \n",
    "        # Esperamos unos segundos antes de realizar la llamada\n",
    "        time.sleep(wait_time)\n",
    "        r = requests.get(song[1])\n",
    "        soup = BeautifulSoup(r.text, 'lxml')\n",
    "        \n",
    "        # Como el div que contiene la letra no tiene ninguna clase ni identificador lo obtendremos a partir del div padre\n",
    "        column = soup.find('div', class_=['col-xs-12 col-lg-8 text-center'])\n",
    "        \n",
    "        #El div con la letra de la cancíon siempre estará en 5º lugar, después de los divs del titulo y de las redes sociales\n",
    "        raw_lyrics = column.findAll('div')[5].text\n",
    "        lyricsDict[song[0]] = raw_lyrics"
   ]
  },
  {
   "cell_type": "markdown",
   "metadata": {},
   "source": [
    "Por último, tenemos que fusionar los arrays albumsDict y lyricsDict:"
   ]
  },
  {
   "cell_type": "code",
   "execution_count": 11,
   "metadata": {},
   "outputs": [],
   "source": [
    "# Recorremos los albumes\n",
    "for album in albumsDict:\n",
    "    # Recorremos las canciones de cada album\n",
    "    for song in albumsDict[album]:\n",
    "        #A cada canción le añadimos la letra correspondiente\n",
    "        song.append(lyricsDict[j[0]])"
   ]
  },
  {
   "cell_type": "markdown",
   "metadata": {},
   "source": [
    "Ahora ya tenemos todas las canciones tal y como queríamos por lo que podemos guardarlas en un json para su posterior análisis"
   ]
  },
  {
   "cell_type": "code",
   "execution_count": 21,
   "metadata": {},
   "outputs": [],
   "source": [
    "import json \n",
    "\n",
    "# El json se guardará en la carpeta data\n",
    "with open('data/' + group + \"-lyrics.json\", \"w\") as outfile: \n",
    "    json.dump(albumsDict, outfile)"
   ]
  },
  {
   "cell_type": "code",
   "execution_count": null,
   "metadata": {},
   "outputs": [],
   "source": []
  },
  {
   "cell_type": "code",
   "execution_count": null,
   "metadata": {},
   "outputs": [],
   "source": []
  }
 ],
 "metadata": {
  "kernelspec": {
   "display_name": "Python 3",
   "language": "python",
   "name": "python3"
  },
  "language_info": {
   "codemirror_mode": {
    "name": "ipython",
    "version": 3
   },
   "file_extension": ".py",
   "mimetype": "text/x-python",
   "name": "python",
   "nbconvert_exporter": "python",
   "pygments_lexer": "ipython3",
   "version": "3.8.5"
  }
 },
 "nbformat": 4,
 "nbformat_minor": 4
}
